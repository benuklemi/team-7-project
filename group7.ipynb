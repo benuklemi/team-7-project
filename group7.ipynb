{
  "nbformat": 4,
  "nbformat_minor": 0,
  "metadata": {
    "colab": {
      "provenance": [],
      "authorship_tag": "ABX9TyOI3n6tAf3H4f0Wua7BAZBq",
      "include_colab_link": true
    },
    "kernelspec": {
      "name": "python3",
      "display_name": "Python 3"
    },
    "language_info": {
      "name": "python"
    }
  },
  "cells": [
    {
      "cell_type": "markdown",
      "metadata": {
        "id": "view-in-github",
        "colab_type": "text"
      },
      "source": [
        "<a href=\"https://colab.research.google.com/github/benuklemi/team-7-project/blob/main/group7.ipynb\" target=\"_parent\"><img src=\"https://colab.research.google.com/assets/colab-badge.svg\" alt=\"Open In Colab\"/></a>"
      ]
    },
    {
      "cell_type": "code",
      "source": [
        "from google.colab import drive\n",
        "drive.mount('/content/drive')"
      ],
      "metadata": {
        "colab": {
          "base_uri": "https://localhost:8080/"
        },
        "id": "erkNmtfpCXy2",
        "outputId": "165adcb3-855f-44ae-a0a4-1a1375d6d88e"
      },
      "execution_count": null,
      "outputs": [
        {
          "output_type": "stream",
          "name": "stdout",
          "text": [
            "Mounted at /content/drive\n"
          ]
        }
      ]
    },
    {
      "cell_type": "code",
      "source": [
        "!ls"
      ],
      "metadata": {
        "id": "0iSjGVzSI1mA",
        "outputId": "c4db9b32-6fdd-47ec-824a-bf3a21c23cfa",
        "colab": {
          "base_uri": "https://localhost:8080/"
        }
      },
      "execution_count": null,
      "outputs": [
        {
          "output_type": "stream",
          "name": "stdout",
          "text": [
            "drive  sample_data\n"
          ]
        }
      ]
    },
    {
      "cell_type": "code",
      "execution_count": null,
      "metadata": {
        "id": "HfKzyiVx_43n"
      },
      "outputs": [],
      "source": [
        "\n",
        "import pandas as pd"
      ]
    },
    {
      "cell_type": "code",
      "source": [
        "file_path =\"/content/drive/MyDrive/Car_sales.csv\""
      ],
      "metadata": {
        "id": "YRF5SfwlAOh-"
      },
      "execution_count": null,
      "outputs": []
    },
    {
      "cell_type": "code",
      "source": [
        "\n",
        "#Import the car sales dataset using Pandas.\n",
        "df = pd.read_csv(file_path)"
      ],
      "metadata": {
        "id": "L1tb8klVOnDM"
      },
      "execution_count": null,
      "outputs": []
    },
    {
      "cell_type": "code",
      "source": [
        "\n",
        "#Display the first 5 rows of the data\n",
        "df.head(6)"
      ],
      "metadata": {
        "id": "3ByJWSlTYYtx"
      },
      "execution_count": null,
      "outputs": []
    },
    {
      "cell_type": "code",
      "source": [
        "\n",
        "#Display the last 10 rows of the data\n",
        "df.tail(10)"
      ],
      "metadata": {
        "id": "nx8_Km9zdwgK"
      },
      "execution_count": null,
      "outputs": []
    },
    {
      "cell_type": "code",
      "source": [
        "#How many rows and columns are present in the dataset?\n",
        "df.shape"
      ],
      "metadata": {
        "colab": {
          "base_uri": "https://localhost:8080/"
        },
        "id": "hpKNl5rZe3Ua",
        "outputId": "29b5a47f-762d-442b-c88f-ef643621324c"
      },
      "execution_count": null,
      "outputs": [
        {
          "output_type": "execute_result",
          "data": {
            "text/plain": [
              "(157, 16)"
            ]
          },
          "metadata": {},
          "execution_count": 19
        }
      ]
    },
    {
      "cell_type": "code",
      "source": [
        "#Use the `info()` method to display information about the dataset, such as data types and non-null counts.\n",
        "df.info()"
      ],
      "metadata": {
        "id": "6e8vS6BRgdZP"
      },
      "execution_count": null,
      "outputs": []
    },
    {
      "cell_type": "code",
      "source": [
        "type(df)"
      ],
      "metadata": {
        "id": "Up1g-auug3D8"
      },
      "execution_count": null,
      "outputs": []
    },
    {
      "cell_type": "code",
      "source": [
        "df.isnull().sum()"
      ],
      "metadata": {
        "id": "BVByCHdIhS9e"
      },
      "execution_count": null,
      "outputs": []
    },
    {
      "cell_type": "code",
      "source": [
        "df.notna().sum()"
      ],
      "metadata": {
        "id": "p917kJhEnmFp"
      },
      "execution_count": null,
      "outputs": []
    },
    {
      "cell_type": "code",
      "source": [
        "#What are the data types of each column? Are the data types for each column appropriate? If not change the data types of some columns to what they are supposed to be\n",
        "\n",
        "df.dtypes"
      ],
      "metadata": {
        "id": "A-9dzX-3n0Ei"
      },
      "execution_count": null,
      "outputs": []
    },
    {
      "cell_type": "code",
      "source": [
        "df.isnull()"
      ],
      "metadata": {
        "id": "7TngT-2Qqd5D"
      },
      "execution_count": null,
      "outputs": []
    },
    {
      "cell_type": "code",
      "source": [
        "df.isnull().sum()"
      ],
      "metadata": {
        "id": "GiksWRZjqsDK"
      },
      "execution_count": null,
      "outputs": []
    },
    {
      "cell_type": "markdown",
      "source": [],
      "metadata": {
        "id": "K2BxJkMY5m2w"
      }
    },
    {
      "cell_type": "code",
      "source": [
        "df.columns.values[3] ='year_resale_value'"
      ],
      "metadata": {
        "id": "0SPq8ODEsqDv"
      },
      "execution_count": null,
      "outputs": []
    },
    {
      "cell_type": "code",
      "source": [
        "df.head()"
      ],
      "metadata": {
        "id": "i4AfZFHZtYcy"
      },
      "execution_count": null,
      "outputs": []
    },
    {
      "cell_type": "markdown",
      "source": [
        "Fill the missing values in the year_resale_value with the average year_resale_value, then drop all other rows with missing values in the dataset"
      ],
      "metadata": {
        "id": "qnb__fvu0DCX"
      }
    },
    {
      "cell_type": "code",
      "source": [
        "df.rename(columns={'_year_resale_value': 'year_resale_value'}, inplace=True)"
      ],
      "metadata": {
        "id": "oiaBsf1Eu6_X"
      },
      "execution_count": null,
      "outputs": []
    },
    {
      "cell_type": "code",
      "source": [
        "df.head()"
      ],
      "metadata": {
        "id": "UBYHPK7cybhy"
      },
      "execution_count": null,
      "outputs": []
    },
    {
      "cell_type": "code",
      "source": [
        "df['year_resale_value'].isnull()"
      ],
      "metadata": {
        "id": "wkXc5Pmn0Ar7"
      },
      "execution_count": null,
      "outputs": []
    },
    {
      "cell_type": "code",
      "source": [
        "mean_sales = df['year_resale_value'].mean()"
      ],
      "metadata": {
        "id": "yvGIWKQ_ymWA"
      },
      "execution_count": null,
      "outputs": []
    },
    {
      "cell_type": "code",
      "source": [
        "df['year_resale_value'].fillna(mean_sales, inplace=True)"
      ],
      "metadata": {
        "id": "p-2qPdxhyzAL"
      },
      "execution_count": null,
      "outputs": []
    },
    {
      "cell_type": "code",
      "source": [
        "df['year_resale_value']"
      ],
      "metadata": {
        "id": "Me3-BZao08C1"
      },
      "execution_count": null,
      "outputs": []
    },
    {
      "cell_type": "code",
      "source": [
        "df.dropna()"
      ],
      "metadata": {
        "id": "Yyf3FpQq1J2Y"
      },
      "execution_count": null,
      "outputs": []
    },
    {
      "cell_type": "code",
      "source": [
        "df.dtypes"
      ],
      "metadata": {
        "id": "ITnqcKSO1h0k"
      },
      "execution_count": null,
      "outputs": []
    },
    {
      "cell_type": "code",
      "source": [
        "means = df.mean(numeric_only=True)"
      ],
      "metadata": {
        "id": "nLCJjU051teu"
      },
      "execution_count": null,
      "outputs": []
    },
    {
      "cell_type": "code",
      "source": [
        "means"
      ],
      "metadata": {
        "id": "9et2YsEL2uXe"
      },
      "execution_count": null,
      "outputs": []
    },
    {
      "cell_type": "code",
      "source": [
        "median = df.median(numeric_only=True)"
      ],
      "metadata": {
        "id": "_LHtS0qK236z"
      },
      "execution_count": null,
      "outputs": []
    },
    {
      "cell_type": "code",
      "source": [
        "deviation= df.std(numeric_only=True)"
      ],
      "metadata": {
        "id": "NNkbBYlq3AtH"
      },
      "execution_count": null,
      "outputs": []
    },
    {
      "cell_type": "code",
      "source": [
        "df = df.drop_duplicates()"
      ],
      "metadata": {
        "id": "ZcuUmfEw4-9q"
      },
      "execution_count": null,
      "outputs": []
    },
    {
      "cell_type": "markdown",
      "source": [
        "Specific Analysis:\n",
        "\n",
        "Find out the most common car brand in the dataset using `value_counts()`\n",
        "Which manufacturer has the highest and lowest average sales volume?\n",
        "What is the distribution of car prices in the dataset?\n",
        "Plot a correlation matrix to see if different numerical variables in the dataset correlate with each other\n",
        "Plot a histogram of the car prices using Matplotlib.\n",
        "Plot the relationship between price and latest launch year.\n",
        "Group cars by manufacturers and analyze their average price and fuel efficiency.\n",
        "Can you identify and visualize the most popular car brands?\n",
        "Which car model has the highest resale value compared to its initial price?\n",
        "Find the top 3 fuel-efficient cars with an engine size above 2.5 liters.\n",
        "Which Lexus model has the highest horsepower?"
      ],
      "metadata": {
        "id": "y30RNmTb5uCj"
      }
    },
    {
      "cell_type": "code",
      "source": [
        "df"
      ],
      "metadata": {
        "id": "8Ajfsd7pesDL"
      },
      "execution_count": null,
      "outputs": []
    },
    {
      "cell_type": "code",
      "source": [
        "#most common brand of the Card\n",
        "car_brand = df['Manufacturer'].value_counts()"
      ],
      "metadata": {
        "id": "8Gp0GO-ke-IT"
      },
      "execution_count": null,
      "outputs": []
    },
    {
      "cell_type": "code",
      "source": [
        "car_brand"
      ],
      "metadata": {
        "id": "v-k6fzRMjvHi"
      },
      "execution_count": null,
      "outputs": []
    },
    {
      "cell_type": "markdown",
      "source": [
        "Which manufacturer has the highest and lowest average sales volume?"
      ],
      "metadata": {
        "id": "JSvEmAdfosnJ"
      }
    },
    {
      "cell_type": "code",
      "source": [
        "most_common_brand = car_brand.idxmax()"
      ],
      "metadata": {
        "id": "Gm9-47m0lYIh"
      },
      "execution_count": null,
      "outputs": []
    },
    {
      "cell_type": "code",
      "source": [
        "most_common_brand"
      ],
      "metadata": {
        "colab": {
          "base_uri": "https://localhost:8080/",
          "height": 35
        },
        "id": "s4gD61MskocJ",
        "outputId": "d2257a0d-3498-4923-b1af-27a7fcf6f8cb"
      },
      "execution_count": null,
      "outputs": [
        {
          "output_type": "execute_result",
          "data": {
            "text/plain": [
              "'Dodge'"
            ],
            "application/vnd.google.colaboratory.intrinsic+json": {
              "type": "string"
            }
          },
          "metadata": {},
          "execution_count": 87
        }
      ]
    },
    {
      "cell_type": "code",
      "source": [
        "least_common_brand = car_brand.idxmin()"
      ],
      "metadata": {
        "id": "a92FcUW5lxIW"
      },
      "execution_count": null,
      "outputs": []
    },
    {
      "cell_type": "code",
      "source": [
        "least_common_brand"
      ],
      "metadata": {
        "colab": {
          "base_uri": "https://localhost:8080/",
          "height": 35
        },
        "id": "D_J893bql7I7",
        "outputId": "b940fde9-91e8-491a-ad6b-eab6fa3fb439"
      },
      "execution_count": null,
      "outputs": [
        {
          "output_type": "execute_result",
          "data": {
            "text/plain": [
              "'Jaguar'"
            ],
            "application/vnd.google.colaboratory.intrinsic+json": {
              "type": "string"
            }
          },
          "metadata": {},
          "execution_count": 90
        }
      ]
    },
    {
      "cell_type": "code",
      "source": [
        "price_distribution = df['Price_in_thousands'].describe()"
      ],
      "metadata": {
        "id": "XnwHg4Qbop-j"
      },
      "execution_count": null,
      "outputs": []
    },
    {
      "cell_type": "code",
      "source": [
        "price_distribution"
      ],
      "metadata": {
        "id": "m_OMz-M7p6oW"
      },
      "execution_count": null,
      "outputs": []
    },
    {
      "cell_type": "markdown",
      "source": [
        "Plot a correlation matrix to see if different numerical variables in the dataset correlate with each other"
      ],
      "metadata": {
        "id": "Ptz5UKerrLJk"
      }
    },
    {
      "cell_type": "code",
      "source": [
        "#select the numeric type first\n",
        "\n",
        "numeric_df = df.select_dtypes(include=['float64', 'int64'])\n",
        "corr_matrix = numeric_df.corr()"
      ],
      "metadata": {
        "id": "PPgzp-sJqKJP"
      },
      "execution_count": null,
      "outputs": []
    },
    {
      "cell_type": "code",
      "source": [
        "corr_matrix"
      ],
      "metadata": {
        "id": "4RAEiXIDq0gN"
      },
      "execution_count": null,
      "outputs": []
    },
    {
      "cell_type": "code",
      "source": [
        "import seaborn as sns\n",
        "import matplotlib.pyplot as plt\n",
        "\n",
        "plt.figure(figsize=(10, 8))\n",
        "sns.heatmap(corr_matrix, annot=True, cmap='coolwarm', linewidths=0.5)\n",
        "plt.title('Correlation Matrix of Numerical Variables in the dataset')\n",
        "plt.show()"
      ],
      "metadata": {
        "id": "YTPC6Ox7rNsN"
      },
      "execution_count": null,
      "outputs": []
    },
    {
      "cell_type": "markdown",
      "source": [
        "Plot a histogram of the car prices using Matplotlib"
      ],
      "metadata": {
        "id": "9-70vl68rv1P"
      }
    },
    {
      "cell_type": "code",
      "source": [
        "import matplotlib.pyplot as plt\n",
        "\n",
        "df['Price_in_thousands'].hist(bins=30, edgecolor='black')\n",
        "plt.title('Distribution of Car Prices')\n",
        "plt.xlabel('Price in Thousands')\n",
        "plt.ylabel('Frequency')\n",
        "plt.show()"
      ],
      "metadata": {
        "id": "-v_NKkcfrtmm"
      },
      "execution_count": null,
      "outputs": []
    },
    {
      "cell_type": "markdown",
      "source": [
        "Plot the relationship between price and latest launch year."
      ],
      "metadata": {
        "id": "videMI2ksm9G"
      }
    },
    {
      "cell_type": "code",
      "source": [
        "import matplotlib.pyplot as plt\n",
        "import seaborn as sns\n",
        "\n",
        "# Create a scatter plot to visualize the relationship between price and latest launch year\n",
        "plt.figure(figsize=(10, 6))\n",
        "\n",
        "sns.scatterplot(x='Latest_Launch', y='Price_in_thousands', data=df)\n",
        "\n",
        "# Add title and labels\n",
        "plt.title('Relationship Between Price and Latest Launch Year')\n",
        "plt.xlabel('Latest Launch')\n",
        "plt.ylabel('Price in Thousands')\n",
        "\n",
        "# Show the plot\n",
        "plt.show()"
      ],
      "metadata": {
        "id": "TGXVFDFMsjj8"
      },
      "execution_count": null,
      "outputs": []
    },
    {
      "cell_type": "markdown",
      "source": [
        "Group cars by manufacturers and analyze their average price and fuel efficiency."
      ],
      "metadata": {
        "id": "nNcp1J6Fs7p6"
      }
    },
    {
      "cell_type": "code",
      "source": [
        "import pandas as pd\n",
        "import matplotlib.pyplot as plt\n",
        "\n",
        "# Group by manufacturer and calculate the mean price and fuel efficiency\n",
        "manufacturer_analysis = df.groupby('Manufacturer').agg({\n",
        "    'Price_in_thousands': 'mean',\n",
        "    'Fuel_efficiency': 'mean'\n",
        "}).reset_index()\n",
        "\n",
        "# Display the result\n",
        "print(manufacturer_analysis)\n",
        "\n",
        "# Plotting the average price and fuel efficiency per manufacturer\n",
        "fig, ax1 = plt.subplots(figsize=(12, 6))\n",
        "\n",
        "# Plotting the average price\n",
        "color = 'tab:blue'\n",
        "ax1.set_xlabel('Manufacturer')\n",
        "ax1.set_ylabel('Average Price', color=color)\n",
        "ax1.bar(manufacturer_analysis['Manufacturer'], manufacturer_analysis['Price_in_thousands'], color=color)\n",
        "ax1.tick_params(axis='y', labelcolor=color)\n",
        "\n",
        "# Plotting the fuel efficiency on the same graph with a different axis\n",
        "ax2 = ax1.twinx()  # instantiate a second axes that shares the same x-axis\n",
        "color = 'tab:red'\n",
        "ax2.set_ylabel('Fuel Efficiency (mpg)', color=color)  # we already handled the x-label with ax1\n",
        "ax2.plot(manufacturer_analysis['Manufacturer'], manufacturer_analysis['Fuel_efficiency'], color=color, marker='o')\n",
        "ax2.tick_params(axis='y', labelcolor=color)\n",
        "\n",
        "# Rotate x-axis labels for better readability\n",
        "plt.xticks(rotation=90)\n",
        "\n",
        "# Add title\n",
        "plt.title('Average Price and Fuel Efficiency by Manufacturer')\n",
        "\n",
        "# Show the plot\n",
        "plt.tight_layout()\n",
        "plt.show()\n"
      ],
      "metadata": {
        "id": "6YxSlsxMtLt5"
      },
      "execution_count": null,
      "outputs": []
    },
    {
      "cell_type": "markdown",
      "source": [
        "Can you identify and visualize the most popular car brands?"
      ],
      "metadata": {
        "id": "8Zb9upLIuddm"
      }
    },
    {
      "cell_type": "code",
      "source": [
        "import matplotlib.pyplot as plt\n",
        "import seaborn as sns\n",
        "\n",
        "# Count the number of cars for each brand\n",
        "car_brand_counts = df['Manufacturer'].value_counts()\n",
        "\n",
        "# Plot the top 10 most popular car brands\n",
        "plt.figure(figsize=(10, 6))\n",
        "\n",
        "# Bar plot for the most popular car brands\n",
        "sns.barplot(x=car_brand_counts.index[:10], y=car_brand_counts.values[:10], palette='viridis')\n",
        "\n",
        "# Add title and labels\n",
        "plt.title('Top 10 Most Popular Car Brands')\n",
        "plt.xlabel('Car Brand')\n",
        "plt.ylabel('Number of Cars')\n",
        "\n",
        "# Rotate x-axis labels for better readability\n",
        "plt.xticks(rotation=45)\n",
        "\n",
        "# Show the plot\n",
        "plt.tight_layout()\n",
        "plt.show()\n"
      ],
      "metadata": {
        "id": "GOojnGgvufFy"
      },
      "execution_count": null,
      "outputs": []
    },
    {
      "cell_type": "markdown",
      "source": [
        "Which car model has the highest resale value compared to its initial price?\n"
      ],
      "metadata": {
        "id": "g9m80RSWvxSI"
      }
    },
    {
      "cell_type": "code",
      "source": [
        "df.info()"
      ],
      "metadata": {
        "id": "9a4jpYDwxekx"
      },
      "execution_count": null,
      "outputs": []
    },
    {
      "cell_type": "code",
      "source": [
        "# Create a new column for the resale to initial price ratio\n",
        "df['resale_value_ratio'] = df['year_resale_value'] / df['Sales_in_thousands']\n",
        "\n",
        "# Find the car model with the highest resale value ratio\n",
        "highest_resale_car = df.loc[df['resale_value_ratio'].idxmax()]\n",
        "\n",
        "# Display the car model and details\n",
        "print(f\"Car model with the highest resale value ratio:\\n{highest_resale_car[['Model', 'resale_value_ratio', 'year_resale_value', 'Sales_in_thousands']]}\")"
      ],
      "metadata": {
        "id": "4p82IEYowLjr"
      },
      "execution_count": null,
      "outputs": []
    },
    {
      "cell_type": "markdown",
      "source": [
        "Find the top 3 fuel-efficient cars with an engine size above 2.5 liters."
      ],
      "metadata": {
        "id": "9Mrf1qJlyJ8g"
      }
    },
    {
      "cell_type": "code",
      "source": [
        "# Filter cars with engine size greater than 2.5 liters\n",
        "filtered_cars = df[df['Engine_size'] > 2.5]\n",
        "\n",
        "# Sort by fuel efficiency in descending order\n",
        "top_fuel_efficient_cars = filtered_cars.sort_values(by='Fuel_efficiency', ascending=False).head(3)\n",
        "\n",
        "# Display the top 3 most fuel-efficient cars\n",
        "print(\"The top 3 most fuel-efficient cars with engine size above 2.5 liters:\")\n",
        "print(top_fuel_efficient_cars[['Model', 'Engine_size', 'Fuel_efficiency']])"
      ],
      "metadata": {
        "id": "2E3v37_lyIOv"
      },
      "execution_count": null,
      "outputs": []
    },
    {
      "cell_type": "markdown",
      "source": [
        "Which Lexus model has the highest horsepower?"
      ],
      "metadata": {
        "id": "NkkiH1ElzMtW"
      }
    },
    {
      "cell_type": "code",
      "source": [
        "# Filter the dataset for Lexus cars\n",
        "lexus_cars = df[df['Manufacturer'] == 'Lexus']\n",
        "\n",
        "# Find the Lexus model with the highest horsepower\n",
        "lexus_highest_horsepower = lexus_cars.loc[lexus_cars['Horsepower'].idxmax()]\n",
        "\n",
        "# Display the model and horsepower\n",
        "print(f\"Lexus model with the highest horsepower:\\n{lexus_highest_horsepower[['Model', 'Horsepower']]}\")"
      ],
      "metadata": {
        "id": "PUGNIZQrzZJL",
        "colab": {
          "base_uri": "https://localhost:8080/"
        },
        "outputId": "d802af25-9d7b-4b86-9b56-8ac51c895b66"
      },
      "execution_count": null,
      "outputs": [
        {
          "output_type": "stream",
          "name": "stdout",
          "text": [
            "Lexus model with the highest horsepower:\n",
            "Model         GS400\n",
            "Horsepower    300.0\n",
            "Name: 72, dtype: object\n"
          ]
        }
      ]
    }
  ]
}